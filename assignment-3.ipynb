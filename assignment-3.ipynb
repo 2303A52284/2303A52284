{
  "nbformat": 4,
  "nbformat_minor": 0,
  "metadata": {
    "colab": {
      "provenance": [],
      "toc_visible": true,
      "authorship_tag": "ABX9TyOnTquuhHNwq1UFbJACM25j",
      "include_colab_link": true
    },
    "kernelspec": {
      "name": "python3",
      "display_name": "Python 3"
    },
    "language_info": {
      "name": "python"
    }
  },
  "cells": [
    {
      "cell_type": "markdown",
      "metadata": {
        "id": "view-in-github",
        "colab_type": "text"
      },
      "source": [
        "<a href=\"https://colab.research.google.com/github/2303A52284/2303A52284/blob/main/assignment-3.ipynb\" target=\"_parent\"><img src=\"https://colab.research.google.com/assets/colab-badge.svg\" alt=\"Open In Colab\"/></a>"
      ]
    },
    {
      "cell_type": "markdown",
      "source": [
        "1. Write Python code without using any libraries to find the value of x at which the\n",
        "function f(x) shown in equation (1) has minimum value. Consider Gradient Descent Algorithm.\n",
        "f (x) = 5x4 + 3x2 + 10"
      ],
      "metadata": {
        "id": "12tzLqSzANXs"
      }
    },
    {
      "cell_type": "code",
      "source": [
        "\n",
        "def f(x):\n",
        "    return 5 * x**4 + 3 * x**2 + 10\n",
        "\n",
        "def df(x):\n",
        "    return 20 * x**3 + 6 * x\n",
        "\n",
        "def gradient_descent(f, df, x_start, learning_rate, num_iterations):\n",
        "    x = x_start\n",
        "    for _ in range(num_iterations):\n",
        "        x = x - learning_rate * df(x)\n",
        "    return x\n",
        "\n",
        "x_start = 0.5\n",
        "learning_rate = 0.01\n",
        "num_iterations = 1000\n",
        "\n",
        "x_min = gradient_descent(f, df, x_start, learning_rate, num_iterations)\n",
        "print(f\"Minimum value of x: {x_min}\")\n"
      ],
      "metadata": {
        "colab": {
          "base_uri": "https://localhost:8080/"
        },
        "id": "b9ILpyoxAVjv",
        "outputId": "a3e6d7b8-76c3-443c-df4b-f64098f4299e"
      },
      "execution_count": 1,
      "outputs": [
        {
          "output_type": "stream",
          "name": "stdout",
          "text": [
            "Minimum value of x: 4.810419162406747e-28\n"
          ]
        }
      ]
    },
    {
      "cell_type": "markdown",
      "source": [
        "2. (1 ponto) Write Python code without using any libraries to find the value of x and y at which the\n",
        "function g(x,y) shown in equation (2) has minimum value. Consider Gradient Descent Algorithm.\n",
        "f (x) = 3x2 + 5e−y + 10"
      ],
      "metadata": {
        "id": "gHiAHgB7AoT0"
      }
    },
    {
      "cell_type": "code",
      "source": [
        "import math\n",
        "\n",
        "def g(x, y):\n",
        "    return 3 * x**2 + 5 * math.exp(-y) + 10\n",
        "\n",
        "def dg_dx(x, y):\n",
        "    return 6 * x\n",
        "\n",
        "def dg_dy(x, y):\n",
        "    return -5 * math.exp(-y)\n",
        "\n",
        "def gradient_descent_2d(g, dg_dx, dg_dy, x_start, y_start, learning_rate, num_iterations):\n",
        "    x, y = x_start, y_start\n",
        "    for _ in range(num_iterations):\n",
        "        x = x - learning_rate * dg_dx(x, y)\n",
        "        y = y - learning_rate * dg_dy(x, y)\n",
        "    return x, y\n",
        "\n",
        "x_start = 0.5\n",
        "y_start = 0.5\n",
        "learning_rate = 0.01\n",
        "num_iterations = 1000\n",
        "\n",
        "x_min, y_min = gradient_descent_2d(g, dg_dx, dg_dy, x_start, y_start, learning_rate, num_iterations)\n",
        "print(f\"Minimum values: x = {x_min}, y = {y_min}\")\n"
      ],
      "metadata": {
        "colab": {
          "base_uri": "https://localhost:8080/"
        },
        "id": "j7wtBqldApkr",
        "outputId": "0ae27d27-f0a1-4d8e-c15f-177d6db0b762"
      },
      "execution_count": 2,
      "outputs": [
        {
          "output_type": "stream",
          "name": "stdout",
          "text": [
            "Minimum values: x = 6.711561962466847e-28, y = 3.946136898667322\n"
          ]
        }
      ]
    },
    {
      "cell_type": "markdown",
      "source": [
        "3. (1 ponto) Write Python code without using any libraries to find the value of x at which the\n",
        "sigmoid function z(x) shown in equation (3) has minimum value. Consider Gradient Descent\n",
        "Algorithm.\n",
        "z(x) = 1\n",
        "1 + e−x"
      ],
      "metadata": {
        "id": "LAa4tAg8A3_r"
      }
    },
    {
      "cell_type": "code",
      "source": [
        "import math\n",
        "\n",
        "def z(x):\n",
        "    return 1 / (1 + math.exp(-x))\n",
        "\n",
        "def dz_dx(x):\n",
        "    sigmoid = z(x)\n",
        "    return sigmoid * (1 - sigmoid)\n",
        "\n",
        "def gradient_descent_sigmoid(z, dz_dx, x_start, learning_rate, num_iterations):\n",
        "    x = x_start\n",
        "    for _ in range(num_iterations):\n",
        "        x = x - learning_rate * dz_dx(x)\n",
        "    return x\n",
        "\n",
        "x_start = 0.5\n",
        "learning_rate = 0.01\n",
        "num_iterations = 1000\n",
        "\n",
        "x_min = gradient_descent_sigmoid(z, dz_dx, x_start, learning_rate, num_iterations)\n",
        "print(f\"Minimum value of x: {x_min}\")\n"
      ],
      "metadata": {
        "colab": {
          "base_uri": "https://localhost:8080/"
        },
        "id": "eQcE3UI3A4yW",
        "outputId": "0fd3cf00-bd0e-4796-d443-4ad8540a8cc6"
      },
      "execution_count": 3,
      "outputs": [
        {
          "output_type": "stream",
          "name": "stdout",
          "text": [
            "Minimum value of x: -1.6012957791750413\n"
          ]
        }
      ]
    },
    {
      "cell_type": "markdown",
      "source": [
        "(1 ponto) Write Python code without using any libraries to find the value of optimal values of\n",
        "model parameters M and C such that the model’s Square Error Value shown in equation 4 will\n",
        "be minimum. It means model gives output close to expected output as shown in Figure"
      ],
      "metadata": {
        "id": "u7u87IdaBLtz"
      }
    },
    {
      "cell_type": "code",
      "source": [
        "\n",
        "data = [(1, 5), (2, 7), (3, 9), (4, 11)]\n",
        "\n",
        "def SE(M, C, data):\n",
        "    error = 0\n",
        "    for x, expected in data:\n",
        "        predicted = M * x + C\n",
        "        error += (expected - predicted)**2\n",
        "    return error\n",
        "\n",
        "def dSE_dM(M, C, data):\n",
        "    grad_M = 0\n",
        "    for x, expected in data:\n",
        "        predicted = M * x + C\n",
        "        grad_M += -2 * x * (expected - predicted)\n",
        "    return grad_M\n",
        "\n",
        "def dSE_dC(M, C, data):\n",
        "    grad_C = 0\n",
        "    for x, expected in data:\n",
        "        predicted = M * x + C\n",
        "        grad_C += -2 * (expected - predicted)\n",
        "    return grad_C\n",
        "\n",
        "def gradient_descent_linear(data, dSE_dM, dSE_dC, M_start, C_start, learning_rate, num_iterations):\n",
        "    M, C = M_start, C_start\n",
        "    for _ in range(num_iterations):\n",
        "        M = M - learning_rate * dSE_dM(M, C, data)\n",
        "        C = C - learning_rate * dSE_dC(M, C, data)\n",
        "    return M, C\n",
        "\n",
        "M_start = 0.0\n",
        "C_start = 0.0\n",
        "learning_rate = 0.01\n",
        "num_iterations = 1000\n",
        "\n",
        "M_opt, C_opt = gradient_descent_linear(data, dSE_dM, dSE_dC, M_start, C_start, learning_rate, num_iterations)\n",
        "print(f\"Optimal values: M = {M_opt}, C = {C_opt}\")\n"
      ],
      "metadata": {
        "colab": {
          "base_uri": "https://localhost:8080/"
        },
        "id": "jNooLbdhBMgC",
        "outputId": "dd6aa5ec-cc0d-40ed-d332-241a9dcd4991"
      },
      "execution_count": 4,
      "outputs": [
        {
          "output_type": "stream",
          "name": "stdout",
          "text": [
            "Optimal values: M = 2.000002363705538, C = 2.999993059618899\n"
          ]
        }
      ]
    }
  ]
}