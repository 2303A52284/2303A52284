{
  "nbformat": 4,
  "nbformat_minor": 0,
  "metadata": {
    "colab": {
      "provenance": [],
      "toc_visible": true,
      "authorship_tag": "ABX9TyO3tBHAt9729P+Yf04A8L98",
      "include_colab_link": true
    },
    "kernelspec": {
      "name": "python3",
      "display_name": "Python 3"
    },
    "language_info": {
      "name": "python"
    }
  },
  "cells": [
    {
      "cell_type": "markdown",
      "metadata": {
        "id": "view-in-github",
        "colab_type": "text"
      },
      "source": [
        "<a href=\"https://colab.research.google.com/github/2303A52284/2303A52284/blob/main/assignment-4.ipynb\" target=\"_parent\"><img src=\"https://colab.research.google.com/assets/colab-badge.svg\" alt=\"Open In Colab\"/></a>"
      ]
    },
    {
      "cell_type": "markdown",
      "source": [
        "(1 ponto) Design a simple ANN architecture with one input and one output layer (no hidden\n",
        "layer). Assume a linear activation function in the output layer"
      ],
      "metadata": {
        "id": "P1wuYVBRDhiL"
      }
    },
    {
      "cell_type": "code",
      "source": [
        "import numpy as np\n",
        "\n",
        "# Training Data (Tabela 1)\n",
        "X_train = np.array([[0.1, 0.2, 0.3],\n",
        "                   [0.2, 0.3, 0.4],\n",
        "                   [0.3, 0.4, 0.5],\n",
        "                   [0.5, 0.6, 0.7],\n",
        "                   [0.1, 0.3, 0.5],\n",
        "                   [0.2, 0.4, 0.6],\n",
        "                   [0.3, 0.5, 0.7],\n",
        "                   [0.4, 0.6, 0.8],\n",
        "                   [0.5, 0.7, 0.1]])\n",
        "y_train = np.array([0.14, 0.20, 0.26, 0.38, 0.22, 0.28, 0.34, 0.40, 0.22])\n",
        "\n",
        "# Test Data (Tabela 2)\n",
        "X_test = np.array([[0.6, 0.7, 0.8],\n",
        "                  [0.7, 0.8, 0.9]])\n",
        "y_test = np.array([0.44, 0.50])\n",
        "\n",
        "# Hyperparameters\n",
        "learning_rate = 0.01\n",
        "epochs = 10000\n",
        "\n",
        "# Initialize weights and bias\n",
        "weights = np.random.randn(3)  # 3 weights for 3 features\n",
        "bias = np.random.randn(1)\n",
        "\n",
        "# Linear Activation Function (Output layer)\n",
        "def linear_activation(x):\n",
        "    return x\n",
        "\n",
        "# Mean Squared Error\n",
        "def mse(y_true, y_pred):\n",
        "    return np.mean((y_true - y_pred)**2)\n",
        "\n",
        "# Backpropagation Algorithm\n",
        "def backpropagation(X, y, weights, bias, learning_rate, epochs):\n",
        "    for epoch in range(epochs):\n",
        "        # Forward pass\n",
        "        y_pred = linear_activation(np.dot(X, weights) + bias)\n",
        "\n",
        "        # Compute loss\n",
        "        loss = mse(y, y_pred)\n",
        "\n",
        "        # Compute gradients (derivatives)\n",
        "        d_loss = y_pred - y  # derivative of MSE w.r.t predictions\n",
        "        d_weights = np.dot(X.T, d_loss) / len(y)  # derivative of MSE w.r.t weights\n",
        "        d_bias = np.sum(d_loss) / len(y)  # derivative of MSE w.r.t bias\n",
        "\n",
        "        # Update weights and bias using gradient descent\n",
        "        weights -= learning_rate * d_weights\n",
        "        bias -= learning_rate * d_bias\n",
        "\n",
        "        if epoch % 1000 == 0:\n",
        "            print(f'Epoch {epoch}, Loss: {loss}')\n",
        "\n",
        "    return weights, bias\n",
        "\n",
        "weights, bias = backpropagation(X_train, y_train, weights, bias, learning_rate, epochs)\n",
        "\n",
        "y_train_pred = linear_activation(np.dot(X_train, weights) + bias)\n",
        "train_mse = mse(y_train, y_train_pred)\n",
        "\n",
        "y_test_pred = linear_activation(np.dot(X_test, weights) + bias)\n",
        "test_mse = mse(y_test, y_test_pred)\n",
        "\n",
        "print(f'Training MSE: {train_mse}')\n",
        "print(f'Testing MSE: {test_mse}')\n",
        "\n",
        "def predict_input():\n",
        "    x1 = float(input(\"Enter x1: \"))\n",
        "    x2 = float(input(\"Enter x2: \"))\n",
        "    x3 = float(input(\"Enter x3: \"))\n",
        "    prediction = linear_activation(np.dot([x1, x2, x3], weights) + bias)\n",
        "    print(f\"Predicted Output: {prediction}\")\n",
        "\n",
        "predict_input()\n"
      ],
      "metadata": {
        "colab": {
          "base_uri": "https://localhost:8080/"
        },
        "id": "rfUHBgSZDjDb",
        "outputId": "05468e0f-e7f4-4d12-d7a7-e3061d9bbb0d"
      },
      "execution_count": 2,
      "outputs": [
        {
          "output_type": "stream",
          "name": "stdout",
          "text": [
            "Epoch 0, Loss: 1.5124127356304555\n",
            "Epoch 1000, Loss: 0.008097931449072504\n",
            "Epoch 2000, Loss: 0.004391900706166798\n",
            "Epoch 3000, Loss: 0.002491101484676027\n",
            "Epoch 4000, Loss: 0.0015115261626551966\n",
            "Epoch 5000, Loss: 0.0010032280453863103\n",
            "Epoch 6000, Loss: 0.00073661708590526\n",
            "Epoch 7000, Loss: 0.0005942640611802795\n",
            "Epoch 8000, Loss: 0.0005159719367464272\n",
            "Epoch 9000, Loss: 0.0004708165861601518\n",
            "Training MSE: 0.00044287966556131654\n",
            "Testing MSE: 0.0009027311057901442\n",
            "Enter x1: 0.6\n",
            "Enter x2: 0.7\n",
            "Enter x3: 0.8\n",
            "Predicted Output: [0.46918628]\n"
          ]
        }
      ]
    },
    {
      "cell_type": "markdown",
      "source": [
        "(1 ponto) Design a simple ANN architecture with one input and one output layer (no hidden\n",
        "layer). Assume a sigmoid activation function shown in the equation 1 in the output layer.\n",
        "f (x) = 1\n",
        "1 + e−x"
      ],
      "metadata": {
        "id": "_iDr54fbEFEl"
      }
    },
    {
      "cell_type": "code",
      "source": [
        "import numpy as np\n",
        "\n",
        "X_train = np.array([[0.1, 0.2, 0.3],\n",
        "                   [0.2, 0.3, 0.4],\n",
        "                   [0.3, 0.4, 0.5],\n",
        "                   [0.5, 0.6, 0.7],\n",
        "                   [0.1, 0.3, 0.5],\n",
        "                   [0.2, 0.4, 0.6],\n",
        "                   [0.3, 0.5, 0.7],\n",
        "                   [0.4, 0.6, 0.8],\n",
        "                   [0.5, 0.7, 0.1]])\n",
        "y_train = np.array([0.5349, 0.5498, 0.5646, 0.5939, 0.5548, 0.5695, 0.5842, 0.5987, 0.5548])\n",
        "\n",
        "X_test = np.array([[0.6, 0.7, 0.8],\n",
        "                  [0.7, 0.8, 0.9]])\n",
        "y_test = np.array([0.6083, 0.6225])\n",
        "\n",
        "learning_rate = 0.01\n",
        "epochs = 10000\n",
        "\n",
        "weights = np.random.randn(3)\n",
        "bias = np.random.randn(1)\n",
        "\n",
        "def sigmoid(x):\n",
        "    return 1 / (1 + np.exp(-x))\n",
        "\n",
        "\n",
        "def sigmoid_derivative(x):\n",
        "    return sigmoid(x) * (1 - sigmoid(x))\n",
        "\n",
        "\n",
        "def mse(y_true, y_pred):\n",
        "    return np.mean((y_true - y_pred)**2)\n",
        "\n",
        "\n",
        "def backpropagation(X, y, weights, bias, learning_rate, epochs):\n",
        "    for epoch in range(epochs):\n",
        "\n",
        "        y_pred = sigmoid(np.dot(X, weights) + bias)\n",
        "\n",
        "        loss = mse(y, y_pred)\n",
        "\n",
        "        d_loss = y_pred - y\n",
        "        d_weights = np.dot(X.T, d_loss * sigmoid_derivative(np.dot(X, weights) + bias)) / len(y)\n",
        "        d_bias = np.sum(d_loss * sigmoid_derivative(np.dot(X, weights) + bias)) / len(y)\n",
        "\n",
        "        weights -= learning_rate * d_weights\n",
        "        bias -= learning_rate * d_bias\n",
        "\n",
        "        if epoch % 1000 == 0:\n",
        "            print(f'Epoch {epoch}, Loss: {loss}')\n",
        "\n",
        "    return weights, bias\n",
        "\n",
        "weights, bias = backpropagation(X_train, y_train, weights, bias, learning_rate, epochs)\n",
        "\n",
        "y_train_pred = sigmoid(np.dot(X_train, weights) + bias)\n",
        "train_mse = mse(y_train, y_train_pred)\n",
        "\n",
        "y_test_pred = sigmoid(np.dot(X_test, weights) + bias)\n",
        "test_mse = mse(y_test, y_test_pred)\n",
        "\n",
        "print(f'Training MSE: {train_mse}')\n",
        "print(f'Testing MSE: {test_mse}')\n",
        "\n",
        "def predict_input():\n",
        "    x1 = float(input(\"Enter x1: \"))\n",
        "    x2 = float(input(\"Enter x2: \"))\n",
        "    x3 = float(input(\"Enter x3: \"))\n",
        "    prediction = sigmoid(np.dot([x1, x2, x3], weights) + bias)\n",
        "    print(f\"Predicted Output: {prediction}\")\n",
        "\n",
        "predict_input()\n"
      ],
      "metadata": {
        "colab": {
          "base_uri": "https://localhost:8080/"
        },
        "id": "Ee_0hDfYEGC-",
        "outputId": "4cd710d7-9c4c-4547-fb36-d7f40a46c468"
      },
      "execution_count": 3,
      "outputs": [
        {
          "output_type": "stream",
          "name": "stdout",
          "text": [
            "Epoch 0, Loss: 0.026422314262343982\n",
            "Epoch 1000, Loss: 0.004555935494769431\n",
            "Epoch 2000, Loss: 0.0012218527231393841\n",
            "Epoch 3000, Loss: 0.0007015009317463049\n",
            "Epoch 4000, Loss: 0.0006017184620406626\n",
            "Epoch 5000, Loss: 0.0005680369833816524\n",
            "Epoch 6000, Loss: 0.0005455717613617219\n",
            "Epoch 7000, Loss: 0.0005255894700149566\n",
            "Epoch 8000, Loss: 0.0005066632558341972\n",
            "Epoch 9000, Loss: 0.00048853725776604\n",
            "Training MSE: 0.0004711449128894558\n",
            "Testing MSE: 0.00034637196677305267\n",
            "Enter x1: 0.7\n",
            "Enter x2: 0.8\n",
            "Enter x3: 0.9\n",
            "Predicted Output: [0.64456984]\n"
          ]
        }
      ]
    }
  ]
}